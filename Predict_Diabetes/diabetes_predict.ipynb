{
 "cells": [
  {
   "cell_type": "code",
   "execution_count": 1,
   "metadata": {},
   "outputs": [],
   "source": [
    "import pandas as pd"
   ]
  },
  {
   "cell_type": "code",
   "execution_count": 3,
   "metadata": {},
   "outputs": [
    {
     "name": "stdout",
     "output_type": "stream",
     "text": [
      "Shape of InputX is  (768, 8)  Shape of InputY is  (768,)\n"
     ]
    }
   ],
   "source": [
    "#Read input data\n",
    "input_data = pd.read_csv(\"diabetes.csv\")\n",
    "InputX = input_data.drop(\"Outcome\", axis = 1)\n",
    "InputY = input_data[\"Outcome\"]\n",
    "\n",
    "#Print and check \n",
    "print(\"Shape of InputX is \", InputX.shape, \" Shape of InputY is \", InputY.shape)"
   ]
  },
  {
   "cell_type": "code",
   "execution_count": 9,
   "metadata": {},
   "outputs": [
    {
     "name": "stdout",
     "output_type": "stream",
     "text": [
      "Shape of TrainX is  (614, 8)  Shape of TrainY is  (614,)\n"
     ]
    }
   ],
   "source": [
    "#splitting data into training and testing\n",
    "from sklearn.model_selection import train_test_split\n",
    "TrainX, TestX, TrainY, TestY = train_test_split(InputX, InputY, test_size = 0.2 )\n",
    "print(\"Shape of TrainX is \", TrainX.shape, \" Shape of TrainY is \", TrainY.shape)"
   ]
  },
  {
   "cell_type": "code",
   "execution_count": 17,
   "metadata": {},
   "outputs": [],
   "source": [
    "#Defining a model\n",
    "import tensorflow as tf\n",
    "\n",
    "model = tf.keras.models.Sequential()\n",
    "\n",
    "#input layer\n",
    "model.add(tf.keras.layers.Reshape((8,),input_shape = (8,)))\n",
    "model.add(tf.keras.layers.BatchNormalization())\n",
    "\n",
    "#hidden layer 1\n",
    "model.add(tf.keras.layers.Dense(100, activation = \"relu\"))\n",
    "\n",
    "#hidden layer 2\n",
    "model.add(tf.keras.layers.Dense(50,activation = \"relu\"))\n",
    "\n",
    "#output layer\n",
    "model.add(tf.keras.layers.Dense(1,activation = \"sigmoid\"))\n",
    "\n",
    "#compiling the model\n",
    "model.compile(optimizer = \"sgd\", loss = \"binary_crossentropy\", metrics = [\"accuracy\"])"
   ]
  },
  {
   "cell_type": "code",
   "execution_count": 18,
   "metadata": {},
   "outputs": [
    {
     "name": "stdout",
     "output_type": "stream",
     "text": [
      "Train on 614 samples, validate on 154 samples\n",
      "Epoch 1/50\n",
      "614/614 [==============================] - 0s 711us/sample - loss: 0.6706 - accuracy: 0.6140 - val_loss: 1.8575 - val_accuracy: 0.6753\n",
      "Epoch 2/50\n",
      "614/614 [==============================] - 0s 21us/sample - loss: 0.6664 - accuracy: 0.6270 - val_loss: 1.3171 - val_accuracy: 0.6753\n",
      "Epoch 3/50\n",
      "614/614 [==============================] - 0s 17us/sample - loss: 0.6607 - accuracy: 0.6319 - val_loss: 1.0947 - val_accuracy: 0.6753\n",
      "Epoch 4/50\n",
      "614/614 [==============================] - 0s 17us/sample - loss: 0.6581 - accuracy: 0.6368 - val_loss: 0.9155 - val_accuracy: 0.6753\n",
      "Epoch 5/50\n",
      "614/614 [==============================] - 0s 18us/sample - loss: 0.6527 - accuracy: 0.6417 - val_loss: 0.8328 - val_accuracy: 0.6753\n",
      "Epoch 6/50\n",
      "614/614 [==============================] - 0s 18us/sample - loss: 0.6487 - accuracy: 0.6515 - val_loss: 0.7743 - val_accuracy: 0.6753\n",
      "Epoch 7/50\n",
      "614/614 [==============================] - 0s 18us/sample - loss: 0.6445 - accuracy: 0.6531 - val_loss: 0.7448 - val_accuracy: 0.6753\n",
      "Epoch 8/50\n",
      "614/614 [==============================] - 0s 18us/sample - loss: 0.6409 - accuracy: 0.6596 - val_loss: 0.7208 - val_accuracy: 0.6753\n",
      "Epoch 9/50\n",
      "614/614 [==============================] - 0s 18us/sample - loss: 0.6370 - accuracy: 0.6694 - val_loss: 0.7073 - val_accuracy: 0.6753\n",
      "Epoch 10/50\n",
      "614/614 [==============================] - 0s 18us/sample - loss: 0.6342 - accuracy: 0.6564 - val_loss: 0.6971 - val_accuracy: 0.6688\n",
      "Epoch 11/50\n",
      "614/614 [==============================] - 0s 18us/sample - loss: 0.6304 - accuracy: 0.6580 - val_loss: 0.6937 - val_accuracy: 0.6688\n",
      "Epoch 12/50\n",
      "614/614 [==============================] - 0s 18us/sample - loss: 0.6273 - accuracy: 0.6726 - val_loss: 0.6882 - val_accuracy: 0.6558\n",
      "Epoch 13/50\n",
      "614/614 [==============================] - 0s 18us/sample - loss: 0.6230 - accuracy: 0.6694 - val_loss: 0.6866 - val_accuracy: 0.6558\n",
      "Epoch 14/50\n",
      "614/614 [==============================] - 0s 18us/sample - loss: 0.6194 - accuracy: 0.6710 - val_loss: 0.6854 - val_accuracy: 0.6364\n",
      "Epoch 15/50\n",
      "614/614 [==============================] - 0s 17us/sample - loss: 0.6168 - accuracy: 0.6726 - val_loss: 0.6858 - val_accuracy: 0.6234\n",
      "Epoch 16/50\n",
      "614/614 [==============================] - 0s 17us/sample - loss: 0.6135 - accuracy: 0.6710 - val_loss: 0.6867 - val_accuracy: 0.6104\n",
      "Epoch 17/50\n",
      "614/614 [==============================] - 0s 18us/sample - loss: 0.6103 - accuracy: 0.6922 - val_loss: 0.6879 - val_accuracy: 0.5909\n",
      "Epoch 18/50\n",
      "614/614 [==============================] - 0s 18us/sample - loss: 0.6062 - accuracy: 0.6987 - val_loss: 0.6912 - val_accuracy: 0.5974\n",
      "Epoch 19/50\n",
      "614/614 [==============================] - 0s 18us/sample - loss: 0.6027 - accuracy: 0.7117 - val_loss: 0.6916 - val_accuracy: 0.5779\n",
      "Epoch 20/50\n",
      "614/614 [==============================] - 0s 18us/sample - loss: 0.5979 - accuracy: 0.7085 - val_loss: 0.6937 - val_accuracy: 0.5260\n",
      "Epoch 21/50\n",
      "614/614 [==============================] - 0s 18us/sample - loss: 0.5952 - accuracy: 0.7085 - val_loss: 0.6932 - val_accuracy: 0.5065\n",
      "Epoch 22/50\n",
      "614/614 [==============================] - 0s 18us/sample - loss: 0.5914 - accuracy: 0.7117 - val_loss: 0.6929 - val_accuracy: 0.4935\n",
      "Epoch 23/50\n",
      "614/614 [==============================] - 0s 18us/sample - loss: 0.5893 - accuracy: 0.7052 - val_loss: 0.6931 - val_accuracy: 0.4610\n",
      "Epoch 24/50\n",
      "614/614 [==============================] - 0s 18us/sample - loss: 0.5884 - accuracy: 0.7215 - val_loss: 0.6933 - val_accuracy: 0.4610\n",
      "Epoch 25/50\n",
      "614/614 [==============================] - 0s 18us/sample - loss: 0.5852 - accuracy: 0.7134 - val_loss: 0.6922 - val_accuracy: 0.4610\n",
      "Epoch 26/50\n",
      "614/614 [==============================] - 0s 17us/sample - loss: 0.5812 - accuracy: 0.7182 - val_loss: 0.6920 - val_accuracy: 0.4675\n",
      "Epoch 27/50\n",
      "614/614 [==============================] - 0s 18us/sample - loss: 0.5806 - accuracy: 0.7248 - val_loss: 0.6908 - val_accuracy: 0.4675\n",
      "Epoch 28/50\n",
      "614/614 [==============================] - 0s 18us/sample - loss: 0.5781 - accuracy: 0.7264 - val_loss: 0.6867 - val_accuracy: 0.4935\n",
      "Epoch 29/50\n",
      "614/614 [==============================] - 0s 18us/sample - loss: 0.5743 - accuracy: 0.7280 - val_loss: 0.6835 - val_accuracy: 0.5000\n",
      "Epoch 30/50\n",
      "614/614 [==============================] - 0s 17us/sample - loss: 0.5733 - accuracy: 0.7313 - val_loss: 0.6781 - val_accuracy: 0.5195\n",
      "Epoch 31/50\n",
      "614/614 [==============================] - 0s 18us/sample - loss: 0.5713 - accuracy: 0.7150 - val_loss: 0.6743 - val_accuracy: 0.5260\n",
      "Epoch 32/50\n",
      "614/614 [==============================] - 0s 17us/sample - loss: 0.5670 - accuracy: 0.7248 - val_loss: 0.6718 - val_accuracy: 0.5195\n",
      "Epoch 33/50\n",
      "614/614 [==============================] - 0s 18us/sample - loss: 0.5654 - accuracy: 0.7378 - val_loss: 0.6673 - val_accuracy: 0.5519\n",
      "Epoch 34/50\n",
      "614/614 [==============================] - 0s 18us/sample - loss: 0.5639 - accuracy: 0.7248 - val_loss: 0.6634 - val_accuracy: 0.5390\n",
      "Epoch 35/50\n",
      "614/614 [==============================] - 0s 18us/sample - loss: 0.5632 - accuracy: 0.7280 - val_loss: 0.6578 - val_accuracy: 0.5519\n",
      "Epoch 36/50\n",
      "614/614 [==============================] - 0s 18us/sample - loss: 0.5598 - accuracy: 0.7410 - val_loss: 0.6526 - val_accuracy: 0.5649\n",
      "Epoch 37/50\n",
      "614/614 [==============================] - 0s 22us/sample - loss: 0.5578 - accuracy: 0.7345 - val_loss: 0.6475 - val_accuracy: 0.5779\n",
      "Epoch 38/50\n",
      "614/614 [==============================] - 0s 18us/sample - loss: 0.5564 - accuracy: 0.7313 - val_loss: 0.6441 - val_accuracy: 0.5779\n",
      "Epoch 39/50\n",
      "614/614 [==============================] - 0s 18us/sample - loss: 0.5530 - accuracy: 0.7394 - val_loss: 0.6390 - val_accuracy: 0.5909\n",
      "Epoch 40/50\n",
      "614/614 [==============================] - 0s 18us/sample - loss: 0.5513 - accuracy: 0.7362 - val_loss: 0.6340 - val_accuracy: 0.6169\n",
      "Epoch 41/50\n",
      "614/614 [==============================] - 0s 18us/sample - loss: 0.5506 - accuracy: 0.7394 - val_loss: 0.6307 - val_accuracy: 0.6299\n",
      "Epoch 42/50\n",
      "614/614 [==============================] - 0s 18us/sample - loss: 0.5472 - accuracy: 0.7443 - val_loss: 0.6266 - val_accuracy: 0.6494\n",
      "Epoch 43/50\n",
      "614/614 [==============================] - 0s 17us/sample - loss: 0.5458 - accuracy: 0.7459 - val_loss: 0.6205 - val_accuracy: 0.6429\n",
      "Epoch 44/50\n",
      "614/614 [==============================] - 0s 18us/sample - loss: 0.5435 - accuracy: 0.7524 - val_loss: 0.6145 - val_accuracy: 0.6494\n",
      "Epoch 45/50\n",
      "614/614 [==============================] - 0s 17us/sample - loss: 0.5441 - accuracy: 0.7427 - val_loss: 0.6092 - val_accuracy: 0.6558\n",
      "Epoch 46/50\n",
      "614/614 [==============================] - 0s 18us/sample - loss: 0.5397 - accuracy: 0.7573 - val_loss: 0.6034 - val_accuracy: 0.6623\n",
      "Epoch 47/50\n",
      "614/614 [==============================] - 0s 18us/sample - loss: 0.5373 - accuracy: 0.7573 - val_loss: 0.5978 - val_accuracy: 0.6818\n",
      "Epoch 48/50\n",
      "614/614 [==============================] - 0s 17us/sample - loss: 0.5384 - accuracy: 0.7492 - val_loss: 0.5917 - val_accuracy: 0.6948\n",
      "Epoch 49/50\n",
      "614/614 [==============================] - 0s 18us/sample - loss: 0.5364 - accuracy: 0.7524 - val_loss: 0.5851 - val_accuracy: 0.7143\n",
      "Epoch 50/50\n",
      "614/614 [==============================] - 0s 18us/sample - loss: 0.5349 - accuracy: 0.7508 - val_loss: 0.5803 - val_accuracy: 0.7208\n"
     ]
    },
    {
     "data": {
      "text/plain": [
       "<tensorflow.python.keras.callbacks.History at 0x7fdc7031ec10>"
      ]
     },
     "execution_count": 18,
     "metadata": {},
     "output_type": "execute_result"
    }
   ],
   "source": [
    "model.fit(TrainX, TrainY, \n",
    "          validation_data = (TestX, TestY),\n",
    "          epochs = 50,\n",
    "          batch_size = 200)"
   ]
  },
  {
   "cell_type": "code",
   "execution_count": 19,
   "metadata": {},
   "outputs": [
    {
     "name": "stdout",
     "output_type": "stream",
     "text": [
      "Model: \"sequential_6\"\n",
      "_________________________________________________________________\n",
      "Layer (type)                 Output Shape              Param #   \n",
      "=================================================================\n",
      "reshape_6 (Reshape)          (None, 8)                 0         \n",
      "_________________________________________________________________\n",
      "batch_normalization_4 (Batch (None, 8)                 32        \n",
      "_________________________________________________________________\n",
      "dense_12 (Dense)             (None, 100)               900       \n",
      "_________________________________________________________________\n",
      "dense_13 (Dense)             (None, 50)                5050      \n",
      "_________________________________________________________________\n",
      "dense_14 (Dense)             (None, 1)                 51        \n",
      "=================================================================\n",
      "Total params: 6,033\n",
      "Trainable params: 6,017\n",
      "Non-trainable params: 16\n",
      "_________________________________________________________________\n"
     ]
    }
   ],
   "source": [
    "model.summary()"
   ]
  },
  {
   "cell_type": "code",
   "execution_count": null,
   "metadata": {},
   "outputs": [],
   "source": []
  }
 ],
 "metadata": {
  "kernelspec": {
   "display_name": "Python 3",
   "language": "python",
   "name": "python3"
  },
  "language_info": {
   "codemirror_mode": {
    "name": "ipython",
    "version": 3
   },
   "file_extension": ".py",
   "mimetype": "text/x-python",
   "name": "python",
   "nbconvert_exporter": "python",
   "pygments_lexer": "ipython3",
   "version": "3.7.6"
  }
 },
 "nbformat": 4,
 "nbformat_minor": 4
}
